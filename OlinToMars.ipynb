{
 "cells": [
  {
   "cell_type": "code",
   "execution_count": null,
   "metadata": {
    "collapsed": true
   },
   "outputs": [],
   "source": [
    "import math\n",
    "\n",
    "g = -9.8\n",
    "lsp = 32 #fix\n",
    "mv0 = 1000 #fix\n",
    "mv\n",
    "tb = \n",
    "mf\n",
    "\n",
    "\n",
    "def mvf(t):\n",
    "    return mr + (t - t0) * mf \n",
    "\n",
    "\n",
    "v = g * (lsp*math.log(mv0 / (mv0 - mvf)) * dt)\n",
    "h = g * -tb * lsp * math.log(mv0/mvf) "
   ]
  }
 ],
 "metadata": {
  "kernelspec": {
   "display_name": "Python 3",
   "language": "python",
   "name": "python3"
  },
  "language_info": {
   "codemirror_mode": {
    "name": "ipython",
    "version": 3
   },
   "file_extension": ".py",
   "mimetype": "text/x-python",
   "name": "python",
   "nbconvert_exporter": "python",
   "pygments_lexer": "ipython3",
   "version": "3.6.1"
  }
 },
 "nbformat": 4,
 "nbformat_minor": 2
}
